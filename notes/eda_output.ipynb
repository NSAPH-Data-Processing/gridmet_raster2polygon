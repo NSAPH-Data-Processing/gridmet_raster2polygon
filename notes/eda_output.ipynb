{
 "cells": [
  {
   "cell_type": "code",
   "execution_count": 1,
   "metadata": {},
   "outputs": [],
   "source": [
    "import pyarrow.parquet as pq"
   ]
  },
  {
   "cell_type": "code",
   "execution_count": 6,
   "metadata": {},
   "outputs": [
    {
     "data": {
      "text/plain": [
       "<pyarrow._parquet.FileMetaData object at 0x14c688616390>\n",
       "  created_by: parquet-cpp-arrow version 14.0.2\n",
       "  num_columns: 3\n",
       "  num_rows: 1180410\n",
       "  num_row_groups: 2\n",
       "  format_version: 2.6\n",
       "  serialized_size: 2539"
      ]
     },
     "execution_count": 6,
     "metadata": {},
     "output_type": "execute_result"
    }
   ],
   "source": [
    "pq.read_metadata(\"../data/intermediate/pr_2001_county.parquet\")"
   ]
  },
  {
   "cell_type": "code",
   "execution_count": 7,
   "metadata": {},
   "outputs": [
    {
     "name": "stdout",
     "output_type": "stream",
     "text": [
      "              day        pr\n",
      "county                     \n",
      "01001  2001-01-01  0.089433\n",
      "01009  2001-01-01  1.195614\n",
      "01023  2001-01-01  0.674049\n",
      "01033  2001-01-01  0.005197\n",
      "01049  2001-01-01  0.371483\n",
      "01089  2001-01-01  0.585145\n",
      "01109  2001-01-01  0.000000\n",
      "01133  2001-01-01  0.009348\n",
      "02016  2001-01-01       NaN\n",
      "02090  2001-01-01       NaN\n"
     ]
    }
   ],
   "source": [
    "# Open the parquet file\n",
    "parquet_file = pq.ParquetFile('../data/intermediate/pr_2001_county.parquet')\n",
    "\n",
    "# Read the first 10 rows (you can adjust this as needed)\n",
    "num_rows = 10\n",
    "table = parquet_file.read_row_group(0).slice(0, num_rows)\n",
    "\n",
    "# Convert to pandas DataFrame if needed\n",
    "df = table.to_pandas()\n",
    "\n",
    "# Display the data\n",
    "print(df.head(num_rows))"
   ]
  }
 ],
 "metadata": {
  "kernelspec": {
   "display_name": "gridmet_raster2polygon",
   "language": "python",
   "name": "python3"
  },
  "language_info": {
   "codemirror_mode": {
    "name": "ipython",
    "version": 3
   },
   "file_extension": ".py",
   "mimetype": "text/x-python",
   "name": "python",
   "nbconvert_exporter": "python",
   "pygments_lexer": "ipython3",
   "version": "3.11.9"
  }
 },
 "nbformat": 4,
 "nbformat_minor": 2
}
