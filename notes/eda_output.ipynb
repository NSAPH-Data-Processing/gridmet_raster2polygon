{
 "cells": [
  {
   "cell_type": "code",
   "execution_count": 8,
   "metadata": {},
   "outputs": [],
   "source": [
    "import pyarrow.parquet as pq\n",
    "import duckdb"
   ]
  },
  {
   "cell_type": "code",
   "execution_count": 4,
   "metadata": {},
   "outputs": [
    {
     "data": {
      "text/plain": [
       "<pyarrow._parquet.FileMetaData object at 0x12f185990>\n",
       "  created_by: parquet-cpp-arrow version 14.0.2\n",
       "  num_columns: 3\n",
       "  num_rows: 1183644\n",
       "  num_row_groups: 2\n",
       "  format_version: 2.6\n",
       "  serialized_size: 2547"
      ]
     },
     "execution_count": 4,
     "metadata": {},
     "output_type": "execute_result"
    }
   ],
   "source": [
    "pq.read_metadata(\"data/intermediate/sph_2000_county.parquet\")"
   ]
  },
  {
   "cell_type": "code",
   "execution_count": 6,
   "metadata": {},
   "outputs": [
    {
     "name": "stdout",
     "output_type": "stream",
     "text": [
      "              day       sph\n",
      "county                     \n",
      "01001  2000-01-01  0.008447\n",
      "01009  2000-01-01  0.007666\n",
      "01023  2000-01-01  0.007780\n",
      "01033  2000-01-01  0.007690\n",
      "01049  2000-01-01  0.007920\n",
      "01089  2000-01-01  0.007715\n",
      "01109  2000-01-01  0.008698\n",
      "01133  2000-01-01  0.007672\n",
      "02016  2000-01-01       NaN\n",
      "02090  2000-01-01       NaN\n"
     ]
    }
   ],
   "source": [
    "# Open the parquet file\n",
    "parquet_file = pq.ParquetFile('data/intermediate/sph_2000_county.parquet')\n",
    "\n",
    "# Read the first 10 rows (you can adjust this as needed)\n",
    "num_rows = 10\n",
    "table = parquet_file.read_row_group(0).slice(0, num_rows)\n",
    "\n",
    "# Convert to pandas DataFrame if needed\n",
    "df = table.to_pandas()\n",
    "\n",
    "# Display the data\n",
    "print(df.head(num_rows))"
   ]
  },
  {
   "cell_type": "code",
   "execution_count": 10,
   "metadata": {},
   "outputs": [
    {
     "data": {
      "text/html": [
       "<div>\n",
       "<style scoped>\n",
       "    .dataframe tbody tr th:only-of-type {\n",
       "        vertical-align: middle;\n",
       "    }\n",
       "\n",
       "    .dataframe tbody tr th {\n",
       "        vertical-align: top;\n",
       "    }\n",
       "\n",
       "    .dataframe thead th {\n",
       "        text-align: right;\n",
       "    }\n",
       "</style>\n",
       "<table border=\"1\" class=\"dataframe\">\n",
       "  <thead>\n",
       "    <tr style=\"text-align: right;\">\n",
       "      <th></th>\n",
       "      <th>county</th>\n",
       "      <th>day</th>\n",
       "      <th>sph</th>\n",
       "    </tr>\n",
       "  </thead>\n",
       "  <tbody>\n",
       "    <tr>\n",
       "      <th>0</th>\n",
       "      <td>01001</td>\n",
       "      <td>2000-01-01</td>\n",
       "      <td>0.008447</td>\n",
       "    </tr>\n",
       "    <tr>\n",
       "      <th>1</th>\n",
       "      <td>01009</td>\n",
       "      <td>2000-01-01</td>\n",
       "      <td>0.007666</td>\n",
       "    </tr>\n",
       "    <tr>\n",
       "      <th>2</th>\n",
       "      <td>01023</td>\n",
       "      <td>2000-01-01</td>\n",
       "      <td>0.007780</td>\n",
       "    </tr>\n",
       "    <tr>\n",
       "      <th>3</th>\n",
       "      <td>01033</td>\n",
       "      <td>2000-01-01</td>\n",
       "      <td>0.007690</td>\n",
       "    </tr>\n",
       "    <tr>\n",
       "      <th>4</th>\n",
       "      <td>01049</td>\n",
       "      <td>2000-01-01</td>\n",
       "      <td>0.007920</td>\n",
       "    </tr>\n",
       "    <tr>\n",
       "      <th>5</th>\n",
       "      <td>01089</td>\n",
       "      <td>2000-01-01</td>\n",
       "      <td>0.007715</td>\n",
       "    </tr>\n",
       "    <tr>\n",
       "      <th>6</th>\n",
       "      <td>01109</td>\n",
       "      <td>2000-01-01</td>\n",
       "      <td>0.008698</td>\n",
       "    </tr>\n",
       "    <tr>\n",
       "      <th>7</th>\n",
       "      <td>01133</td>\n",
       "      <td>2000-01-01</td>\n",
       "      <td>0.007672</td>\n",
       "    </tr>\n",
       "    <tr>\n",
       "      <th>8</th>\n",
       "      <td>02016</td>\n",
       "      <td>2000-01-01</td>\n",
       "      <td>NaN</td>\n",
       "    </tr>\n",
       "    <tr>\n",
       "      <th>9</th>\n",
       "      <td>02090</td>\n",
       "      <td>2000-01-01</td>\n",
       "      <td>NaN</td>\n",
       "    </tr>\n",
       "  </tbody>\n",
       "</table>\n",
       "</div>"
      ],
      "text/plain": [
       "  county        day       sph\n",
       "0  01001 2000-01-01  0.008447\n",
       "1  01009 2000-01-01  0.007666\n",
       "2  01023 2000-01-01  0.007780\n",
       "3  01033 2000-01-01  0.007690\n",
       "4  01049 2000-01-01  0.007920\n",
       "5  01089 2000-01-01  0.007715\n",
       "6  01109 2000-01-01  0.008698\n",
       "7  01133 2000-01-01  0.007672\n",
       "8  02016 2000-01-01       NaN\n",
       "9  02090 2000-01-01       NaN"
      ]
     },
     "execution_count": 10,
     "metadata": {},
     "output_type": "execute_result"
    }
   ],
   "source": [
    "conn = duckdb.connect()\n",
    "conn.execute(\"CREATE TABLE gridmet AS SELECT county, day, sph FROM 'data/intermediate/sph_2000_county.parquet'\")\n",
    "conn.execute(\"SELECT * FROM gridmet LIMIT 10\").fetchdf()"
   ]
  },
  {
   "cell_type": "code",
   "execution_count": 14,
   "metadata": {},
   "outputs": [
    {
     "data": {
      "text/html": [
       "<div>\n",
       "<style scoped>\n",
       "    .dataframe tbody tr th:only-of-type {\n",
       "        vertical-align: middle;\n",
       "    }\n",
       "\n",
       "    .dataframe tbody tr th {\n",
       "        vertical-align: top;\n",
       "    }\n",
       "\n",
       "    .dataframe thead th {\n",
       "        text-align: right;\n",
       "    }\n",
       "</style>\n",
       "<table border=\"1\" class=\"dataframe\">\n",
       "  <thead>\n",
       "    <tr style=\"text-align: right;\">\n",
       "      <th></th>\n",
       "      <th>n</th>\n",
       "    </tr>\n",
       "  </thead>\n",
       "  <tbody>\n",
       "    <tr>\n",
       "      <th>0</th>\n",
       "      <td>125</td>\n",
       "    </tr>\n",
       "  </tbody>\n",
       "</table>\n",
       "</div>"
      ],
      "text/plain": [
       "     n\n",
       "0  125"
      ]
     },
     "execution_count": 14,
     "metadata": {},
     "output_type": "execute_result"
    }
   ],
   "source": [
    "conn.execute(\"\"\"\n",
    "    SELECT \n",
    "        COUNT(DISTINCT county) AS n, \n",
    "    FROM \n",
    "        'data/intermediate/sph_2000_county.parquet' \n",
    "    WHERE\n",
    "        sph is NULL\n",
    "\"\"\").fetchdf()"
   ]
  }
 ],
 "metadata": {
  "kernelspec": {
   "display_name": "gridmet_raster2polygon",
   "language": "python",
   "name": "python3"
  },
  "language_info": {
   "codemirror_mode": {
    "name": "ipython",
    "version": 3
   },
   "file_extension": ".py",
   "mimetype": "text/x-python",
   "name": "python",
   "nbconvert_exporter": "python",
   "pygments_lexer": "ipython3",
   "version": "3.11.9"
  }
 },
 "nbformat": 4,
 "nbformat_minor": 2
}
